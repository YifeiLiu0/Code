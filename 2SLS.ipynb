{
 "cells": [
  {
   "attachments": {},
   "cell_type": "markdown",
   "metadata": {},
   "source": [
    "# IO, Problem Set 1"
   ]
  },
  {
   "attachments": {},
   "cell_type": "markdown",
   "metadata": {},
   "source": [
    "### Name: Yifei Liu"
   ]
  },
  {
   "cell_type": "code",
   "execution_count": 1,
   "metadata": {},
   "outputs": [],
   "source": [
    "## Data Process\n",
    "import pandas as pd\n",
    "import statsmodels.api as sm\n",
    "from linearmodels.iv import IV2SLS\n",
    "from linearmodels.panel.data import PanelData"
   ]
  },
  {
   "cell_type": "code",
   "execution_count": 2,
   "metadata": {},
   "outputs": [],
   "source": [
    "# Load and preprocess data\n",
    "data = pd.read_excel(\"C:/Users/一飞/Desktop/IO/cereal_data.xlsx\")\n",
    "data['constant'] = 1\n",
    "data['ID'] = data.index"
   ]
  },
  {
   "attachments": {},
   "cell_type": "markdown",
   "metadata": {},
   "source": [
    "## Problem 1"
   ]
  },
  {
   "attachments": {},
   "cell_type": "markdown",
   "metadata": {},
   "source": [
    "### 3(a): OLS"
   ]
  },
  {
   "cell_type": "code",
   "execution_count": 5,
   "metadata": {},
   "outputs": [
    {
     "name": "stdout",
     "output_type": "stream",
     "text": [
      "                            OLS Regression Results                            \n",
      "==============================================================================\n",
      "Dep. Variable:                  share   R-squared:                       0.043\n",
      "Model:                            OLS   Adj. R-squared:                  0.042\n",
      "Method:                 Least Squares   F-statistic:                     33.87\n",
      "Date:                Fri, 12 May 2023   Prob (F-statistic):           2.08e-21\n",
      "Time:                        16:42:57   Log-Likelihood:                 5117.8\n",
      "No. Observations:                2256   AIC:                        -1.023e+04\n",
      "Df Residuals:                    2252   BIC:                        -1.020e+04\n",
      "Df Model:                           3                                         \n",
      "Covariance Type:            nonrobust                                         \n",
      "==============================================================================\n",
      "                 coef    std err          t      P>|t|      [0.025      0.975]\n",
      "------------------------------------------------------------------------------\n",
      "constant       0.0335      0.002     13.870      0.000       0.029       0.038\n",
      "sugar          0.0007   9.52e-05      7.118      0.000       0.000       0.001\n",
      "mushy          0.0019      0.001      1.660      0.097      -0.000       0.004\n",
      "price         -0.1604      0.019     -8.425      0.000      -0.198      -0.123\n",
      "==============================================================================\n",
      "Omnibus:                     2307.088   Durbin-Watson:                   2.079\n",
      "Prob(Omnibus):                  0.000   Jarque-Bera (JB):           232272.716\n",
      "Skew:                           4.766   Prob(JB):                         0.00\n",
      "Kurtosis:                      51.787   Cond. No.                         379.\n",
      "==============================================================================\n",
      "\n",
      "Notes:\n",
      "[1] Standard Errors assume that the covariance matrix of the errors is correctly specified.\n"
     ]
    }
   ],
   "source": [
    "# Define the independent and dependent variables\n",
    "X = data[['constant', 'sugar', 'mushy', 'price']]\n",
    "y = data['share']\n",
    "\n",
    "# Estimate the OLS regression\n",
    "model = sm.OLS(y, X)\n",
    "results = model.fit()\n",
    "\n",
    "# Print the summary results\n",
    "print(results.summary())"
   ]
  },
  {
   "attachments": {},
   "cell_type": "markdown",
   "metadata": {},
   "source": [
    "### 3(b): 2SLS"
   ]
  },
  {
   "cell_type": "code",
   "execution_count": 6,
   "metadata": {},
   "outputs": [
    {
     "name": "stdout",
     "output_type": "stream",
     "text": [
      "                          IV-2SLS Estimation Summary                          \n",
      "==============================================================================\n",
      "Dep. Variable:                  share   R-squared:                     -0.0582\n",
      "Estimator:                    IV-2SLS   Adj. R-squared:                -0.0596\n",
      "No. Observations:                2256   F-statistic:                    27.383\n",
      "Date:                Fri, May 12 2023   P-value (F-stat)                0.0000\n",
      "Time:                        16:44:24   Distribution:                  chi2(3)\n",
      "Cov. Estimator:                robust                                         \n",
      "                                                                              \n",
      "                             Parameter Estimates                              \n",
      "==============================================================================\n",
      "            Parameter  Std. Err.     T-stat    P-value    Lower CI    Upper CI\n",
      "------------------------------------------------------------------------------\n",
      "constant      -0.0004     0.0141    -0.0263     0.9790     -0.0281      0.0274\n",
      "sugar          0.0003     0.0002     1.4396     0.1500  -9.282e-05      0.0006\n",
      "mushy          0.0035     0.0014     2.4318     0.0150      0.0007      0.0064\n",
      "price          0.1337     0.1207     1.1079     0.2679     -0.1028      0.3702\n",
      "==============================================================================\n",
      "\n",
      "Endogenous: price\n",
      "Instruments: IV_avg_same_charac_except_current\n",
      "Robust Covariance (Heteroskedastic)\n",
      "Debiased: False\n"
     ]
    }
   ],
   "source": [
    "# Compute the average characteristics for all other products produced by the same firm\n",
    "# sugar\n",
    "def mean_sugar_without_current_product(x):\n",
    "    result = pd.DataFrame()\n",
    "    result['avg_sugar_except_current'] = (x['sugar'].sum() - x['sugar']) / (x['sugar'].count() - 1)\n",
    "    result['ID'] = x['ID']\n",
    "    return result\n",
    "\n",
    "data_group1 = data.groupby('firm_id').apply(mean_sugar_without_current_product)\n",
    "data = data.merge(data_group1, on=['firm_id', 'ID'], how='left')\n",
    "\n",
    "# mushy\n",
    "def mean_mushy_without_current_product(x):\n",
    "    result = pd.DataFrame()\n",
    "    result['avg_mushy_except_current'] = (x['mushy'].sum() - x['mushy']) / (x['mushy'].count() - 1)\n",
    "    result['ID'] = x['ID']\n",
    "    return result\n",
    "\n",
    "data_group2 = data.groupby('firm_id').apply(mean_mushy_without_current_product)\n",
    "data = data.merge(data_group2, on=['firm_id', 'ID'], how='left')\n",
    "\n",
    "# sum sugar and mushy\n",
    "data['IV_avg_same_charac_except_current'] = data['avg_mushy_except_current'] + data['avg_sugar_except_current']                          \n",
    "\n",
    "# Define the independent variables (x_jt and p_jct)\n",
    "X = data[['constant', 'sugar', 'mushy', 'price']]\n",
    "y = data['share']\n",
    "instrument = data[['IV_avg_same_charac_except_current']]\n",
    "\n",
    "# Estimate the 2SLS regression (Method; see Method 2 in the twoSLS_rivals section)\n",
    "model = IV2SLS(dependent=y, exog=X[['constant', 'sugar', 'mushy']], endog=X['price'], instruments=instrument['IV_avg_same_charac_except_current'])\n",
    "results = model.fit()\n",
    "\n",
    "# Print the summary results\n",
    "print(results.summary)"
   ]
  },
  {
   "attachments": {},
   "cell_type": "markdown",
   "metadata": {},
   "source": [
    "### 3(c): 2SLS"
   ]
  },
  {
   "cell_type": "code",
   "execution_count": 7,
   "metadata": {},
   "outputs": [
    {
     "name": "stdout",
     "output_type": "stream",
     "text": [
      "                            OLS Regression Results                            \n",
      "==============================================================================\n",
      "Dep. Variable:                  share   R-squared:                       0.014\n",
      "Model:                            OLS   Adj. R-squared:                  0.012\n",
      "Method:                 Least Squares   F-statistic:                     10.39\n",
      "Date:                Fri, 12 May 2023   Prob (F-statistic):           8.61e-07\n",
      "Time:                        16:46:37   Log-Likelihood:                 5083.5\n",
      "No. Observations:                2256   AIC:                        -1.016e+04\n",
      "Df Residuals:                    2252   BIC:                        -1.014e+04\n",
      "Df Model:                           3                                         \n",
      "Covariance Type:            nonrobust                                         \n",
      "===================================================================================\n",
      "                      coef    std err          t      P>|t|      [0.025      0.975]\n",
      "-----------------------------------------------------------------------------------\n",
      "constant            0.0172      0.002      8.381      0.000       0.013       0.021\n",
      "sugar               0.0005      0.000      4.907      0.000       0.000       0.001\n",
      "mushy               0.0029      0.001      2.543      0.011       0.001       0.005\n",
      "predicted_price    -0.0226      0.019     -1.212      0.226      -0.059       0.014\n",
      "==============================================================================\n",
      "Omnibus:                     2265.349   Durbin-Watson:                   2.003\n",
      "Prob(Omnibus):                  0.000   Jarque-Bera (JB):           207439.005\n",
      "Skew:                           4.653   Prob(JB):                         0.00\n",
      "Kurtosis:                      49.046   Cond. No.                         364.\n",
      "==============================================================================\n",
      "\n",
      "Notes:\n",
      "[1] Standard Errors assume that the covariance matrix of the errors is correctly specified.\n"
     ]
    }
   ],
   "source": [
    "# Compute the average characteristics for all other products produced by the rivals firm\n",
    "\n",
    "# sugar\n",
    "def mean_sugar_without_current_firm(x):\n",
    "    avg_sugar = x['sugar'][x.index != x.name].mean()\n",
    "    result = pd.DataFrame({'avg_sugar_except_firm': avg_sugar}, index=x.index)\n",
    "    return result\n",
    "\n",
    "data_group1 = data.groupby('firm_id').apply(mean_sugar_without_current_firm).reset_index(level='firm_id', drop=True)\n",
    "data = data.join(data_group1, on='ID')\n",
    "\n",
    "# mushy\n",
    "def mean_mushy_without_current_firm(x):\n",
    "    avg_mushy = x['mushy'][x.index != x.name].mean()\n",
    "    result = pd.DataFrame({'avg_mushy_except_firm': avg_mushy}, index=x.index)\n",
    "    return result\n",
    "\n",
    "data_group2 = data.groupby('firm_id').apply(mean_mushy_without_current_firm).reset_index(level='firm_id', drop=True)\n",
    "data = data.join(data_group2, on='ID')\n",
    "\n",
    "# sum sugar and mushy\n",
    "data['IV_avg_rivals_charac_except_current'] = data['avg_sugar_except_firm'] + data['avg_mushy_except_firm']                          \n",
    "\n",
    "# Define the independent variables (x_jt and p_jct)\n",
    "X = data[['constant', 'sugar', 'mushy']]\n",
    "p = data['price']\n",
    "y = data['share']\n",
    "instrument = data[['IV_avg_rivals_charac_except_current']]\n",
    "\n",
    "# Estimate the 2SLS regression  (Method 2)\n",
    "# First stage regression: regress price on the instrument\n",
    "first_stage = sm.OLS(p, instrument).fit()\n",
    "predicted_price = first_stage.predict()\n",
    "predicted_price_df = pd.DataFrame(predicted_price, columns=['predicted_price'])\n",
    "\n",
    "# Second stage regression: regress mean utility on characteristics and predicted price\n",
    "second_stage = sm.OLS(y, sm.add_constant(pd.concat([X, predicted_price_df], axis=1))).fit()\n",
    "print(second_stage.summary())"
   ]
  }
 ],
 "metadata": {
  "kernelspec": {
   "display_name": "Python 3",
   "language": "python",
   "name": "python3"
  },
  "language_info": {
   "codemirror_mode": {
    "name": "ipython",
    "version": 3
   },
   "file_extension": ".py",
   "mimetype": "text/x-python",
   "name": "python",
   "nbconvert_exporter": "python",
   "pygments_lexer": "ipython3",
   "version": "3.11.3"
  },
  "orig_nbformat": 4
 },
 "nbformat": 4,
 "nbformat_minor": 2
}
